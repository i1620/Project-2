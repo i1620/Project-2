{
 "cells": [
  {
   "cell_type": "code",
   "execution_count": 1,
   "metadata": {},
   "outputs": [],
   "source": [
    "import pandas as pd\n",
    "from sqlalchemy import create_engine"
   ]
  },
  {
   "cell_type": "markdown",
   "metadata": {},
   "source": [
    "# Store CSV into DataFrame"
   ]
  },
  {
   "cell_type": "code",
   "execution_count": 2,
   "metadata": {
    "scrolled": false
   },
   "outputs": [
    {
     "data": {
      "text/html": [
       "<div>\n",
       "<style scoped>\n",
       "    .dataframe tbody tr th:only-of-type {\n",
       "        vertical-align: middle;\n",
       "    }\n",
       "\n",
       "    .dataframe tbody tr th {\n",
       "        vertical-align: top;\n",
       "    }\n",
       "\n",
       "    .dataframe thead th {\n",
       "        text-align: right;\n",
       "    }\n",
       "</style>\n",
       "<table border=\"1\" class=\"dataframe\">\n",
       "  <thead>\n",
       "    <tr style=\"text-align: right;\">\n",
       "      <th></th>\n",
       "      <th>date</th>\n",
       "      <th>states</th>\n",
       "      <th>positive</th>\n",
       "      <th>negative</th>\n",
       "      <th>pending</th>\n",
       "      <th>hospitalizedCurrently</th>\n",
       "      <th>hospitalizedCumulative</th>\n",
       "      <th>inIcuCurrently</th>\n",
       "      <th>inIcuCumulative</th>\n",
       "      <th>onVentilatorCurrently</th>\n",
       "      <th>...</th>\n",
       "      <th>lastModified</th>\n",
       "      <th>total</th>\n",
       "      <th>posNeg</th>\n",
       "      <th>deathIncrease</th>\n",
       "      <th>hospitalizedIncrease</th>\n",
       "      <th>negativeIncrease</th>\n",
       "      <th>positiveIncrease</th>\n",
       "      <th>totalTestResultsIncrease</th>\n",
       "      <th>hash</th>\n",
       "      <th>date_modified</th>\n",
       "    </tr>\n",
       "  </thead>\n",
       "  <tbody>\n",
       "    <tr>\n",
       "      <th>0</th>\n",
       "      <td>20201117</td>\n",
       "      <td>56</td>\n",
       "      <td>11209335</td>\n",
       "      <td>137833090</td>\n",
       "      <td>9281.0</td>\n",
       "      <td>76958.0</td>\n",
       "      <td>524678.0</td>\n",
       "      <td>14851.0</td>\n",
       "      <td>27681.0</td>\n",
       "      <td>4379.0</td>\n",
       "      <td>...</td>\n",
       "      <td>2020-11-17T24:00:00Z</td>\n",
       "      <td>0</td>\n",
       "      <td>0</td>\n",
       "      <td>1555</td>\n",
       "      <td>3915</td>\n",
       "      <td>1092462</td>\n",
       "      <td>156722</td>\n",
       "      <td>1503534</td>\n",
       "      <td>708da364131cc93957705f7e156adc77b09ec479</td>\n",
       "      <td>2020-11-17</td>\n",
       "    </tr>\n",
       "    <tr>\n",
       "      <th>1</th>\n",
       "      <td>20201116</td>\n",
       "      <td>56</td>\n",
       "      <td>11052613</td>\n",
       "      <td>136740628</td>\n",
       "      <td>13639.0</td>\n",
       "      <td>73268.0</td>\n",
       "      <td>520763.0</td>\n",
       "      <td>14317.0</td>\n",
       "      <td>27437.0</td>\n",
       "      <td>4166.0</td>\n",
       "      <td>...</td>\n",
       "      <td>2020-11-16T24:00:00Z</td>\n",
       "      <td>0</td>\n",
       "      <td>0</td>\n",
       "      <td>637</td>\n",
       "      <td>3148</td>\n",
       "      <td>1103527</td>\n",
       "      <td>148868</td>\n",
       "      <td>1478180</td>\n",
       "      <td>03274b3fa0fd66a6b690404cfd1a02200de4da12</td>\n",
       "      <td>2020-11-16</td>\n",
       "    </tr>\n",
       "    <tr>\n",
       "      <th>2</th>\n",
       "      <td>20201115</td>\n",
       "      <td>56</td>\n",
       "      <td>10903745</td>\n",
       "      <td>135637101</td>\n",
       "      <td>13654.0</td>\n",
       "      <td>70113.0</td>\n",
       "      <td>517615.0</td>\n",
       "      <td>13693.0</td>\n",
       "      <td>27269.0</td>\n",
       "      <td>3939.0</td>\n",
       "      <td>...</td>\n",
       "      <td>2020-11-15T24:00:00Z</td>\n",
       "      <td>0</td>\n",
       "      <td>0</td>\n",
       "      <td>677</td>\n",
       "      <td>1876</td>\n",
       "      <td>1162554</td>\n",
       "      <td>144434</td>\n",
       "      <td>1614984</td>\n",
       "      <td>b54fb425773fd3a742135208376358ed968ced59</td>\n",
       "      <td>2020-11-15</td>\n",
       "    </tr>\n",
       "    <tr>\n",
       "      <th>3</th>\n",
       "      <td>20201114</td>\n",
       "      <td>56</td>\n",
       "      <td>10759311</td>\n",
       "      <td>134474547</td>\n",
       "      <td>13657.0</td>\n",
       "      <td>69498.0</td>\n",
       "      <td>515739.0</td>\n",
       "      <td>13337.0</td>\n",
       "      <td>27172.0</td>\n",
       "      <td>3945.0</td>\n",
       "      <td>...</td>\n",
       "      <td>2020-11-14T24:00:00Z</td>\n",
       "      <td>0</td>\n",
       "      <td>0</td>\n",
       "      <td>1312</td>\n",
       "      <td>3465</td>\n",
       "      <td>1174712</td>\n",
       "      <td>163540</td>\n",
       "      <td>1661289</td>\n",
       "      <td>37d336c0c6780c7cb7e642f3b913b33bae511c5b</td>\n",
       "      <td>2020-11-14</td>\n",
       "    </tr>\n",
       "    <tr>\n",
       "      <th>4</th>\n",
       "      <td>20201113</td>\n",
       "      <td>56</td>\n",
       "      <td>10595771</td>\n",
       "      <td>133299835</td>\n",
       "      <td>12010.0</td>\n",
       "      <td>68496.0</td>\n",
       "      <td>512274.0</td>\n",
       "      <td>13132.0</td>\n",
       "      <td>26997.0</td>\n",
       "      <td>3769.0</td>\n",
       "      <td>...</td>\n",
       "      <td>2020-11-13T24:00:00Z</td>\n",
       "      <td>0</td>\n",
       "      <td>0</td>\n",
       "      <td>1275</td>\n",
       "      <td>3693</td>\n",
       "      <td>1237330</td>\n",
       "      <td>172106</td>\n",
       "      <td>1695579</td>\n",
       "      <td>a88e3bd0b213dff8125c5337801650cdd9b39c15</td>\n",
       "      <td>2020-11-13</td>\n",
       "    </tr>\n",
       "  </tbody>\n",
       "</table>\n",
       "<p>5 rows × 26 columns</p>\n",
       "</div>"
      ],
      "text/plain": [
       "       date  states  positive   negative  pending  hospitalizedCurrently  \\\n",
       "0  20201117      56  11209335  137833090   9281.0                76958.0   \n",
       "1  20201116      56  11052613  136740628  13639.0                73268.0   \n",
       "2  20201115      56  10903745  135637101  13654.0                70113.0   \n",
       "3  20201114      56  10759311  134474547  13657.0                69498.0   \n",
       "4  20201113      56  10595771  133299835  12010.0                68496.0   \n",
       "\n",
       "   hospitalizedCumulative  inIcuCurrently  inIcuCumulative  \\\n",
       "0                524678.0         14851.0          27681.0   \n",
       "1                520763.0         14317.0          27437.0   \n",
       "2                517615.0         13693.0          27269.0   \n",
       "3                515739.0         13337.0          27172.0   \n",
       "4                512274.0         13132.0          26997.0   \n",
       "\n",
       "   onVentilatorCurrently  ...          lastModified  total posNeg  \\\n",
       "0                 4379.0  ...  2020-11-17T24:00:00Z      0      0   \n",
       "1                 4166.0  ...  2020-11-16T24:00:00Z      0      0   \n",
       "2                 3939.0  ...  2020-11-15T24:00:00Z      0      0   \n",
       "3                 3945.0  ...  2020-11-14T24:00:00Z      0      0   \n",
       "4                 3769.0  ...  2020-11-13T24:00:00Z      0      0   \n",
       "\n",
       "   deathIncrease  hospitalizedIncrease  negativeIncrease positiveIncrease  \\\n",
       "0           1555                  3915           1092462           156722   \n",
       "1            637                  3148           1103527           148868   \n",
       "2            677                  1876           1162554           144434   \n",
       "3           1312                  3465           1174712           163540   \n",
       "4           1275                  3693           1237330           172106   \n",
       "\n",
       "   totalTestResultsIncrease                                      hash  \\\n",
       "0                   1503534  708da364131cc93957705f7e156adc77b09ec479   \n",
       "1                   1478180  03274b3fa0fd66a6b690404cfd1a02200de4da12   \n",
       "2                   1614984  b54fb425773fd3a742135208376358ed968ced59   \n",
       "3                   1661289  37d336c0c6780c7cb7e642f3b913b33bae511c5b   \n",
       "4                   1695579  a88e3bd0b213dff8125c5337801650cdd9b39c15   \n",
       "\n",
       "   date_modified  \n",
       "0     2020-11-17  \n",
       "1     2020-11-16  \n",
       "2     2020-11-15  \n",
       "3     2020-11-14  \n",
       "4     2020-11-13  \n",
       "\n",
       "[5 rows x 26 columns]"
      ]
     },
     "execution_count": 2,
     "metadata": {},
     "output_type": "execute_result"
    }
   ],
   "source": [
    "national_csv = \"data_sources/national_data.csv\"\n",
    "national_data_df = pd.read_csv(national_csv)\n",
    "national_data_df.head()"
   ]
  },
  {
   "cell_type": "code",
   "execution_count": 3,
   "metadata": {
    "scrolled": true
   },
   "outputs": [
    {
     "data": {
      "text/plain": [
       "Index(['date', 'states', 'positive', 'negative', 'pending',\n",
       "       'hospitalizedCurrently', 'hospitalizedCumulative', 'inIcuCurrently',\n",
       "       'inIcuCumulative', 'onVentilatorCurrently', 'onVentilatorCumulative',\n",
       "       'recovered', 'dateChecked', 'death', 'hospitalized', 'totalTestResults',\n",
       "       'lastModified', 'total', 'posNeg', 'deathIncrease',\n",
       "       'hospitalizedIncrease', 'negativeIncrease', 'positiveIncrease',\n",
       "       'totalTestResultsIncrease', 'hash', 'date_modified'],\n",
       "      dtype='object')"
      ]
     },
     "execution_count": 3,
     "metadata": {},
     "output_type": "execute_result"
    }
   ],
   "source": [
    "national_data_df.columns"
   ]
  },
  {
   "cell_type": "markdown",
   "metadata": {},
   "source": [
    "# Clean Data"
   ]
  },
  {
   "cell_type": "code",
   "execution_count": 4,
   "metadata": {
    "scrolled": true
   },
   "outputs": [
    {
     "data": {
      "text/html": [
       "<div>\n",
       "<style scoped>\n",
       "    .dataframe tbody tr th:only-of-type {\n",
       "        vertical-align: middle;\n",
       "    }\n",
       "\n",
       "    .dataframe tbody tr th {\n",
       "        vertical-align: top;\n",
       "    }\n",
       "\n",
       "    .dataframe thead th {\n",
       "        text-align: right;\n",
       "    }\n",
       "</style>\n",
       "<table border=\"1\" class=\"dataframe\">\n",
       "  <thead>\n",
       "    <tr style=\"text-align: right;\">\n",
       "      <th></th>\n",
       "      <th>date_modified</th>\n",
       "      <th>positive</th>\n",
       "      <th>hospitalizedCumulative</th>\n",
       "      <th>death</th>\n",
       "      <th>recovered</th>\n",
       "    </tr>\n",
       "  </thead>\n",
       "  <tbody>\n",
       "    <tr>\n",
       "      <th>0</th>\n",
       "      <td>2020-11-17</td>\n",
       "      <td>11209335</td>\n",
       "      <td>524678.0</td>\n",
       "      <td>239835.0</td>\n",
       "      <td>4294743.0</td>\n",
       "    </tr>\n",
       "    <tr>\n",
       "      <th>1</th>\n",
       "      <td>2020-11-16</td>\n",
       "      <td>11052613</td>\n",
       "      <td>520763.0</td>\n",
       "      <td>238280.0</td>\n",
       "      <td>4245304.0</td>\n",
       "    </tr>\n",
       "    <tr>\n",
       "      <th>2</th>\n",
       "      <td>2020-11-15</td>\n",
       "      <td>10903745</td>\n",
       "      <td>517615.0</td>\n",
       "      <td>237643.0</td>\n",
       "      <td>4185979.0</td>\n",
       "    </tr>\n",
       "    <tr>\n",
       "      <th>3</th>\n",
       "      <td>2020-11-14</td>\n",
       "      <td>10759311</td>\n",
       "      <td>515739.0</td>\n",
       "      <td>236966.0</td>\n",
       "      <td>4149020.0</td>\n",
       "    </tr>\n",
       "    <tr>\n",
       "      <th>4</th>\n",
       "      <td>2020-11-13</td>\n",
       "      <td>10595771</td>\n",
       "      <td>512274.0</td>\n",
       "      <td>235654.0</td>\n",
       "      <td>4095749.0</td>\n",
       "    </tr>\n",
       "  </tbody>\n",
       "</table>\n",
       "</div>"
      ],
      "text/plain": [
       "  date_modified  positive  hospitalizedCumulative     death  recovered\n",
       "0    2020-11-17  11209335                524678.0  239835.0  4294743.0\n",
       "1    2020-11-16  11052613                520763.0  238280.0  4245304.0\n",
       "2    2020-11-15  10903745                517615.0  237643.0  4185979.0\n",
       "3    2020-11-14  10759311                515739.0  236966.0  4149020.0\n",
       "4    2020-11-13  10595771                512274.0  235654.0  4095749.0"
      ]
     },
     "execution_count": 4,
     "metadata": {},
     "output_type": "execute_result"
    }
   ],
   "source": [
    "new_national_data_df = national_data_df[['date_modified','positive',\n",
    "                                    'hospitalizedCumulative','death',\n",
    "                                    'recovered']].copy()\n",
    "national_data_transformed = new_national_data_df.rename(columns={\n",
    "    \"Date\": \"date_modified\", \"Positive\" : \"positive\",\n",
    "    \"Hospitalized\": \"hospitalizedCumulative\", \"Deaths\": \"death\",\n",
    "    \"Recovered\": \"recovered\"})\n",
    "national_data_transformed.head()\n"
   ]
  },
  {
   "cell_type": "markdown",
   "metadata": {},
   "source": [
    "## Connect to local database"
   ]
  },
  {
   "cell_type": "code",
   "execution_count": 5,
   "metadata": {},
   "outputs": [],
   "source": [
    "rds_connection_string = \"postgres:postgres@localhost:5432/COVID-19\"\n",
    "engine = create_engine(f'postgresql://{rds_connection_string}')"
   ]
  },
  {
   "cell_type": "code",
   "execution_count": 6,
   "metadata": {
    "scrolled": true
   },
   "outputs": [
    {
     "data": {
      "text/plain": [
       "['national_stats']"
      ]
     },
     "execution_count": 6,
     "metadata": {},
     "output_type": "execute_result"
    }
   ],
   "source": [
    "engine.table_names()"
   ]
  },
  {
   "cell_type": "markdown",
   "metadata": {},
   "source": [
    "## CSV converted DataFrame into database"
   ]
  },
  {
   "cell_type": "code",
   "execution_count": 9,
   "metadata": {},
   "outputs": [],
   "source": [
    "national_data_transformed.to_sql(name='national_stats', con=engine, if_exists='append', index=False)\n"
   ]
  },
  {
   "cell_type": "markdown",
   "metadata": {},
   "source": [
    "## Load DataFrame into database"
   ]
  },
  {
   "cell_type": "code",
   "execution_count": 10,
   "metadata": {},
   "outputs": [
    {
     "data": {
      "text/html": [
       "<div>\n",
       "<style scoped>\n",
       "    .dataframe tbody tr th:only-of-type {\n",
       "        vertical-align: middle;\n",
       "    }\n",
       "\n",
       "    .dataframe tbody tr th {\n",
       "        vertical-align: top;\n",
       "    }\n",
       "\n",
       "    .dataframe thead th {\n",
       "        text-align: right;\n",
       "    }\n",
       "</style>\n",
       "<table border=\"1\" class=\"dataframe\">\n",
       "  <thead>\n",
       "    <tr style=\"text-align: right;\">\n",
       "      <th></th>\n",
       "      <th>date_modified</th>\n",
       "      <th>positive</th>\n",
       "      <th>hospitalizedCumulative</th>\n",
       "      <th>death</th>\n",
       "      <th>recovered</th>\n",
       "    </tr>\n",
       "  </thead>\n",
       "  <tbody>\n",
       "    <tr>\n",
       "      <th>0</th>\n",
       "      <td>2020-11-17</td>\n",
       "      <td>11209335</td>\n",
       "      <td>524678.0</td>\n",
       "      <td>239835.0</td>\n",
       "      <td>4294743.0</td>\n",
       "    </tr>\n",
       "    <tr>\n",
       "      <th>1</th>\n",
       "      <td>2020-11-16</td>\n",
       "      <td>11052613</td>\n",
       "      <td>520763.0</td>\n",
       "      <td>238280.0</td>\n",
       "      <td>4245304.0</td>\n",
       "    </tr>\n",
       "    <tr>\n",
       "      <th>2</th>\n",
       "      <td>2020-11-15</td>\n",
       "      <td>10903745</td>\n",
       "      <td>517615.0</td>\n",
       "      <td>237643.0</td>\n",
       "      <td>4185979.0</td>\n",
       "    </tr>\n",
       "    <tr>\n",
       "      <th>3</th>\n",
       "      <td>2020-11-14</td>\n",
       "      <td>10759311</td>\n",
       "      <td>515739.0</td>\n",
       "      <td>236966.0</td>\n",
       "      <td>4149020.0</td>\n",
       "    </tr>\n",
       "    <tr>\n",
       "      <th>4</th>\n",
       "      <td>2020-11-13</td>\n",
       "      <td>10595771</td>\n",
       "      <td>512274.0</td>\n",
       "      <td>235654.0</td>\n",
       "      <td>4095749.0</td>\n",
       "    </tr>\n",
       "  </tbody>\n",
       "</table>\n",
       "</div>"
      ],
      "text/plain": [
       "  date_modified  positive  hospitalizedCumulative     death  recovered\n",
       "0    2020-11-17  11209335                524678.0  239835.0  4294743.0\n",
       "1    2020-11-16  11052613                520763.0  238280.0  4245304.0\n",
       "2    2020-11-15  10903745                517615.0  237643.0  4185979.0\n",
       "3    2020-11-14  10759311                515739.0  236966.0  4149020.0\n",
       "4    2020-11-13  10595771                512274.0  235654.0  4095749.0"
      ]
     },
     "execution_count": 10,
     "metadata": {},
     "output_type": "execute_result"
    }
   ],
   "source": [
    "pd.read_sql_query('select * from national_stats', con=engine).head()\n"
   ]
  },
  {
   "cell_type": "code",
   "execution_count": null,
   "metadata": {},
   "outputs": [],
   "source": []
  }
 ],
 "metadata": {
  "kernelspec": {
   "display_name": "Python 3",
   "language": "python",
   "name": "python3"
  },
  "language_info": {
   "codemirror_mode": {
    "name": "ipython",
    "version": 3
   },
   "file_extension": ".py",
   "mimetype": "text/x-python",
   "name": "python",
   "nbconvert_exporter": "python",
   "pygments_lexer": "ipython3",
   "version": "3.8.3"
  }
 },
 "nbformat": 4,
 "nbformat_minor": 4
}
